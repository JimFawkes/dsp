{
 "cells": [
  {
   "cell_type": "code",
   "execution_count": 6,
   "metadata": {},
   "outputs": [],
   "source": [
    "p_fraternal = 1/125\n",
    "p_identical = 1/300\n",
    "p_twin = p_fraternal + p_identical"
   ]
  },
  {
   "cell_type": "markdown",
   "metadata": {},
   "source": [
    "```Bayes Theorem\n",
    "\n",
    "P(A|B) = (P(B|A) * P(A))/ P(B)\n",
    "\n",
    "In this case the Variables describe the following events:\n",
    "    A: Brother is an identical twin\n",
    "    B: Elvis has a twin\n",
    "    \n",
    "The probabilities are:\n",
    "    P(B|A)=1 -> Given the fact that the brother is an identical twin, how high is the chance that the brother is a twin.\n",
    "    P(A) = 1/300 -> Chance of a person having an identical twin.\n",
    "    P(B) = 1/125 + 1/300 -> Chance of a person being a twin.\n",
    "\n",
    "```"
   ]
  },
  {
   "cell_type": "code",
   "execution_count": 9,
   "metadata": {},
   "outputs": [
    {
     "name": "stdout",
     "output_type": "stream",
     "text": [
      "The probability that Elvis was an identical twin, if the fact that elvis had a twin is true, is 29.4%\n"
     ]
    }
   ],
   "source": [
    "\n",
    "p = (1*p_identical)/p_twin\n",
    "print(f\"The probability that Elvis was an identical twin, if the fact that elvis had a twin is true, is {round(p, 3) * 100}%\")"
   ]
  },
  {
   "cell_type": "code",
   "execution_count": null,
   "metadata": {},
   "outputs": [],
   "source": []
  }
 ],
 "metadata": {
  "kernelspec": {
   "display_name": "Python 3",
   "language": "python",
   "name": "python3"
  },
  "language_info": {
   "codemirror_mode": {
    "name": "ipython",
    "version": 3
   },
   "file_extension": ".py",
   "mimetype": "text/x-python",
   "name": "python",
   "nbconvert_exporter": "python",
   "pygments_lexer": "ipython3",
   "version": "3.6.5"
  }
 },
 "nbformat": 4,
 "nbformat_minor": 2
}
