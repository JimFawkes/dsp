{
 "cells": [
  {
   "cell_type": "code",
   "execution_count": 1,
   "metadata": {},
   "outputs": [],
   "source": [
    "import pandas as pd\n",
    "import tools.thinkstats as ts2\n",
    "from tools.distributions import Hist"
   ]
  },
  {
   "cell_type": "markdown",
   "metadata": {},
   "source": [
    "**Disclaimer:** The module tools and all submodules contain tools to follow the DRY principle.\n",
    "Code in the tools.thinkstats module is partially copied (and identical) from ThinkStats2 code and partially modified.\n",
    "\n",
    "**Data:** The datafile, which is evaluated for this exercise is also copied from the ThinkStats2 repository.\n",
    "\n",
    "**Hist:** Hist is a class, which takes a list or series, calculates a histogram and provides several methods using the histogram (e.g., mean, median, outliers, etc.)."
   ]
  },
  {
   "cell_type": "code",
   "execution_count": 2,
   "metadata": {},
   "outputs": [],
   "source": [
    "df = ts2.read_fem_preg(clean=True)\n",
    "live = df[df['outcome'] == 1]\n",
    "first = live[live['birthord'] == 1]\n",
    "other = live[live['birthord'] != 1]"
   ]
  },
  {
   "cell_type": "markdown",
   "metadata": {},
   "source": [
    "# Chapter 2, Ex. 4"
   ]
  },
  {
   "cell_type": "markdown",
   "metadata": {},
   "source": [
    "*\"Using the variable `totalwgt_lb`, investigate whether first babies are lighter or heavier than others.\"*"
   ]
  },
  {
   "cell_type": "markdown",
   "metadata": {},
   "source": [
    "Calculate the histogram for `totalwgt_lb` for first and other babies."
   ]
  },
  {
   "cell_type": "code",
   "execution_count": 3,
   "metadata": {},
   "outputs": [],
   "source": [
    "first_totalwgt_lb_hist = Hist(first.totalwgt_lb)\n",
    "other_totalwgt_lb_hist = Hist(other.totalwgt_lb)"
   ]
  },
  {
   "cell_type": "markdown",
   "metadata": {},
   "source": [
    "Stats on total weight (lb) for live births that were first babies."
   ]
  },
  {
   "cell_type": "code",
   "execution_count": 4,
   "metadata": {},
   "outputs": [
    {
     "name": "stdout",
     "output_type": "stream",
     "text": [
      "Column Name: \t totalwgt_lb\n",
      "Mean: \t\t 7.201\n",
      "Median: \t 7.312\n",
      "Variance: \t 2.018\n",
      "Std Dev.: \t 1.42\n",
      "Outliers: \t [(0.125, 1), (0.3125, 1), (0.4375, 1), (0.625, 1), (0.9375, 1)]\n"
     ]
    }
   ],
   "source": [
    "first_totalwgt_lb_hist.print_stats()"
   ]
  },
  {
   "cell_type": "markdown",
   "metadata": {},
   "source": [
    "Stats on total weight (lb) for live babies that were not first babies."
   ]
  },
  {
   "cell_type": "code",
   "execution_count": 5,
   "metadata": {},
   "outputs": [
    {
     "name": "stdout",
     "output_type": "stream",
     "text": [
      "Column Name: \t totalwgt_lb\n",
      "Mean: \t\t 7.326\n",
      "Median: \t 7.375\n",
      "Variance: \t 1.943\n",
      "Std Dev.: \t 1.394\n",
      "Outliers: \t [(0.5625, 1), (0.625, 1), (1.125, 1), (1.25, 1), (1.3125, 1)]\n"
     ]
    }
   ],
   "source": [
    "other_totalwgt_lb_hist.print_stats()"
   ]
  },
  {
   "cell_type": "markdown",
   "metadata": {},
   "source": [
    "*\"Compute Cohen's d to quantify the difference between the groups. How does it compare to the differnece in pregnancy length.\"*"
   ]
  },
  {
   "cell_type": "code",
   "execution_count": 6,
   "metadata": {},
   "outputs": [
    {
     "name": "stdout",
     "output_type": "stream",
     "text": [
      "The absolute value of `Cohen's d` is: 0.08868218237434661\n"
     ]
    }
   ],
   "source": [
    "d = first_totalwgt_lb_hist.cohens_d(other_totalwgt_lb_hist)\n",
    "print(f\"The absolute value of `Cohen's d` is: {abs(d)}\")"
   ]
  },
  {
   "cell_type": "markdown",
   "metadata": {},
   "source": [
    "# Results\n",
    "\n",
    "The difference in the mean value between first borns (`7.201`) and others (`7.326`) is very low (`0.125`) and therefore not significant.\n",
    "When looking at the absolute value of the 'effect size' using `Cohens's d` when comparing first borns and others, we can see, that with an absolute value of `0.089` the difference is very small and below the value of `0.2`. This result reinfoces the assumption, that there is no significant difference in the birth weight of first borns and others."
   ]
  }
 ],
 "metadata": {
  "kernelspec": {
   "display_name": "Python 3",
   "language": "python",
   "name": "python3"
  },
  "language_info": {
   "codemirror_mode": {
    "name": "ipython",
    "version": 3
   },
   "file_extension": ".py",
   "mimetype": "text/x-python",
   "name": "python",
   "nbconvert_exporter": "python",
   "pygments_lexer": "ipython3",
   "version": "3.6.5"
  }
 },
 "nbformat": 4,
 "nbformat_minor": 2
}
