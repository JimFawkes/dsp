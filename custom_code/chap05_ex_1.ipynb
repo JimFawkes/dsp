{
 "cells": [
  {
   "cell_type": "code",
   "execution_count": 1,
   "metadata": {},
   "outputs": [],
   "source": [
    "import pandas as pd\n",
    "import tools.thinkstats as ts2\n",
    "import tools.conversions as convs\n",
    "from tools.brfss import ReadBrfss\n",
    "from tools.distributions import Hist, BiasedHist"
   ]
  },
  {
   "cell_type": "markdown",
   "metadata": {},
   "source": [
    "**Disclaimer:** The module tools and all submodules contain tools to follow the DRY principle.\n",
    "Code in the tools.thinkstats module is partially copied (and identical) from ThinkStats2 code and partially modified.\n",
    "\n",
    "**BRFSS:** This module was copied completely without any customaizations.\n",
    "\n",
    "**Data:** The datafile, which is evaluated for this exercise is also copied from the ThinkStats2 repository.\n",
    "\n",
    "**Hist:** Hist is a class, which takes a list or series, calculates a histogram and provides several methods using the histogram (e.g., mean, median, outliers, etc.).\n",
    "\n",
    "**BiasedHist:** BiasedHist is a class derived from Hist, which is biased in the way the the class size paradox is biased.\n",
    "\n",
    "**Convs:** This module contains conversion functions to translate between imperial and metric system."
   ]
  },
  {
   "cell_type": "markdown",
   "metadata": {},
   "source": [
    "# Chapter 5, Ex. 1"
   ]
  },
  {
   "cell_type": "markdown",
   "metadata": {},
   "source": [
    "In the BRFSS (see Section on page 56), the distribution of heights is roughly normal with parameters µ = 178 cm and σ = 7.7 cm for men, and µ = 163 cm and σ = 7.3 cm for women.\n",
    "\n",
    "In order to join Blue Man Group, you have to be male between 5’10” and 6’1” (see http://bluemancasting.com). What percentage of the U.S. male population is in this range? Hint: use scipy.stats.norm.cdf."
   ]
  },
  {
   "cell_type": "code",
   "execution_count": 20,
   "metadata": {},
   "outputs": [],
   "source": [
    "import scipy.stats"
   ]
  },
  {
   "cell_type": "code",
   "execution_count": 21,
   "metadata": {},
   "outputs": [
    {
     "data": {
      "text/plain": [
       "(177.8, 185.4)"
      ]
     },
     "execution_count": 21,
     "metadata": {},
     "output_type": "execute_result"
    }
   ],
   "source": [
    "# Convert the Hight from feet and inches to centimeters\n",
    "lower_hight_limit = round(convs.us_hight2m(feet=5, inches=10) * 100, 1)\n",
    "upper_hight_limit = round(convs.us_hight2m(feet=6, inches=1) * 100, 1)\n",
    "lower_hight_limit, upper_hight_limit"
   ]
  },
  {
   "cell_type": "code",
   "execution_count": 22,
   "metadata": {},
   "outputs": [],
   "source": [
    "mu = 178\n",
    "sigma = 7.7\n",
    "dist = scipy.stats.norm(loc=mu, scale=sigma)"
   ]
  },
  {
   "cell_type": "code",
   "execution_count": 23,
   "metadata": {},
   "outputs": [
    {
     "data": {
      "text/plain": [
       "(0.48963902786483265, 0.8317337108107857, 0.3420946829459531)"
      ]
     },
     "execution_count": 23,
     "metadata": {},
     "output_type": "execute_result"
    }
   ],
   "source": [
    "low, high, diff = dist.cdf(lower_hight_limit), dist.cdf(upper_hight_limit), dist.cdf(upper_hight_limit) - dist.cdf(lower_hight_limit)\n",
    "low, high, diff"
   ]
  },
  {
   "cell_type": "code",
   "execution_count": 24,
   "metadata": {},
   "outputs": [
    {
     "data": {
      "text/plain": [
       "0.3420946829459531"
      ]
     },
     "execution_count": 24,
     "metadata": {},
     "output_type": "execute_result"
    }
   ],
   "source": [
    "diff"
   ]
  },
  {
   "cell_type": "code",
   "execution_count": 25,
   "metadata": {},
   "outputs": [
    {
     "name": "stdout",
     "output_type": "stream",
     "text": [
      "About 34.2% of the US male population is within the range of 177.8 cm and 185.4 cm\n"
     ]
    }
   ],
   "source": [
    "print(f\"About {round(diff,3)*100}% of the US male population is within the range of {lower_hight_limit} cm and {upper_hight_limit} cm\")\n"
   ]
  },
  {
   "cell_type": "code",
   "execution_count": 17,
   "metadata": {},
   "outputs": [],
   "source": [
    "## Compare results to the BRFSS data"
   ]
  },
  {
   "cell_type": "code",
   "execution_count": 18,
   "metadata": {},
   "outputs": [],
   "source": [
    "df = ReadBrfss()\n",
    "males = df[df['sex']==1]\n",
    "male_hight_hist = Hist(males.htm3)"
   ]
  },
  {
   "cell_type": "code",
   "execution_count": 19,
   "metadata": {},
   "outputs": [],
   "source": [
    "# Get rid of digits after the comma\n",
    "# This is necessary because of a current limitation in the way the CDF class looksup values.\n",
    "lower_hight_limit, upper_hight_limit = round(lower_hight_limit, 0), round(upper_hight_limit, 0)"
   ]
  },
  {
   "cell_type": "code",
   "execution_count": 11,
   "metadata": {},
   "outputs": [
    {
     "data": {
      "text/plain": [
       "(0.5432137144041397, 0.8786842565427733, 0.3354705421386336)"
      ]
     },
     "execution_count": 11,
     "metadata": {},
     "output_type": "execute_result"
    }
   ],
   "source": [
    "low_2, high_2, diff_2 = male_hight_hist.cdf[lower_hight_limit], male_hight_hist.cdf[upper_hight_limit], male_hight_hist.cdf[upper_hight_limit] - male_hight_hist.cdf[lower_hight_limit]\n",
    "\n",
    "low_2, high_2, diff_2"
   ]
  },
  {
   "cell_type": "code",
   "execution_count": 12,
   "metadata": {},
   "outputs": [
    {
     "name": "stdout",
     "output_type": "stream",
     "text": [
      "About 33.5% of the males within this data set are within the range of 178.0 cm and 185.0 cm\n"
     ]
    }
   ],
   "source": [
    "print(f\"About {round(diff_2,3)*100}% of the males within this data set are within the range of {lower_hight_limit} cm and {upper_hight_limit} cm\")\n"
   ]
  },
  {
   "cell_type": "code",
   "execution_count": 13,
   "metadata": {},
   "outputs": [
    {
     "data": {
      "text/plain": [
       "(0.054, 0.047, 0.007)"
      ]
     },
     "execution_count": 13,
     "metadata": {},
     "output_type": "execute_result"
    }
   ],
   "source": [
    "# Calculate the difference between the two approaches\n",
    "round(abs(low - low_2), 3), round(abs(high - high_2), 3), round(abs(diff - diff_2), 3)"
   ]
  },
  {
   "cell_type": "code",
   "execution_count": 14,
   "metadata": {},
   "outputs": [
    {
     "ename": "SyntaxError",
     "evalue": "invalid syntax (<ipython-input-14-7abbfaf40de1>, line 1)",
     "output_type": "error",
     "traceback": [
      "\u001b[0;36m  File \u001b[0;32m\"<ipython-input-14-7abbfaf40de1>\"\u001b[0;36m, line \u001b[0;32m1\u001b[0m\n\u001b[0;31m    The difference betwee the two calculations is very small.\u001b[0m\n\u001b[0m                 ^\u001b[0m\n\u001b[0;31mSyntaxError\u001b[0m\u001b[0;31m:\u001b[0m invalid syntax\n"
     ]
    }
   ],
   "source": [
    "The difference betwee the two calculations is very small."
   ]
  }
 ],
 "metadata": {
  "kernelspec": {
   "display_name": "Python 3",
   "language": "python",
   "name": "python3"
  },
  "language_info": {
   "codemirror_mode": {
    "name": "ipython",
    "version": 3
   },
   "file_extension": ".py",
   "mimetype": "text/x-python",
   "name": "python",
   "nbconvert_exporter": "python",
   "pygments_lexer": "ipython3",
   "version": "3.6.5"
  }
 },
 "nbformat": 4,
 "nbformat_minor": 2
}
