{
 "cells": [
  {
   "cell_type": "code",
   "execution_count": 1,
   "metadata": {},
   "outputs": [],
   "source": [
    "import pandas as pd\n",
    "import tools.thinkstats as ts2\n",
    "from tools.distributions import Hist, BiasedHist"
   ]
  },
  {
   "cell_type": "markdown",
   "metadata": {},
   "source": [
    "**Disclaimer:** The module tools and all submodules contain tools to follow the DRY principle.\n",
    "Code in the tools.thinkstats module is partially copied (and identical) from ThinkStats2 code and partially modified.\n",
    "\n",
    "**Data:** The datafile, which is evaluated for this exercise is also copied from the ThinkStats2 repository.\n",
    "\n",
    "**Hist:** Hist is a class, which takes a list or series, calculates a histogram and provides several methods using the histogram (e.g., mean, median, outliers, etc.).\n",
    "\n",
    "**BiasedHist:** BiasedHist is a class derived from Hist, which is biased in the way the the class size paradox is biased."
   ]
  },
  {
   "cell_type": "code",
   "execution_count": 2,
   "metadata": {},
   "outputs": [],
   "source": [
    "respondents = ts2.read_female_respondents_data(clean=False)"
   ]
  },
  {
   "cell_type": "markdown",
   "metadata": {},
   "source": [
    "# Chapter 3, Ex. 1"
   ]
  },
  {
   "cell_type": "markdown",
   "metadata": {},
   "source": [
    "***\"Use the NSFG respondent variable `NUMKDHH` to construct the actual distribution for the number of children under 18 in the houshold.\"***"
   ]
  },
  {
   "cell_type": "code",
   "execution_count": 3,
   "metadata": {},
   "outputs": [
    {
     "data": {
      "image/png": "[encoded data removed]",
      "text/plain": [
       "<Figure size 432x288 with 1 Axes>"
      ]
     },
     "metadata": {
      "needs_background": "light"
     },
     "output_type": "display_data"
    }
   ],
   "source": [
    "# Unbiased Distribution\n",
    "children_hist = Hist(respondents.numkdhh)\n",
    "_ = children_hist.plot(dict_name=children_hist.pmf.pmf, label='Children Count')"
   ]
  },
  {
   "cell_type": "markdown",
   "metadata": {},
   "source": [
    "***\"Now compute the biased distribution we would see if we surveyed the children and asked them how many children under 18 (including themselves) are in their household.***\n",
    "\n",
    "***Plot the actual and biased distributions, and compute their means. As a starting place, you can use [chap03ex.ipynb](../code/chap03ex.ipynb)\"***"
   ]
  },
  {
   "cell_type": "code",
   "execution_count": 4,
   "metadata": {},
   "outputs": [
    {
     "data": {
      "image/png": "[encoded data removed]",
      "text/plain": [
       "<Figure size 432x288 with 1 Axes>"
      ]
     },
     "metadata": {
      "needs_background": "light"
     },
     "output_type": "display_data"
    }
   ],
   "source": [
    "# Biased Distribution\n",
    "children_biased_hist = BiasedHist(respondents.numkdhh)\n",
    "_ = children_biased_hist.plot(dict_name=children_biased_hist.pmf.pmf, label='Children Count')"
   ]
  },
  {
   "cell_type": "code",
   "execution_count": 5,
   "metadata": {},
   "outputs": [
    {
     "name": "stdout",
     "output_type": "stream",
     "text": [
      "Column Name: \t numkdhh\n",
      "Mean: \t\t 1.024\n",
      "Median: \t 1\n",
      "Variance: \t 1.413\n",
      "Std Dev.: \t 1.189\n",
      "Outliers: \t [(1, 1636), (2, 1500), (3, 666), (4, 196), (5, 82)]\n"
     ]
    }
   ],
   "source": [
    "# Unbiased Distribution\n",
    "children_hist.print_stats()"
   ]
  },
  {
   "cell_type": "code",
   "execution_count": 6,
   "metadata": {},
   "outputs": [
    {
     "name": "stdout",
     "output_type": "stream",
     "text": [
      "Column Name: \t numkdhh\n",
      "Mean: \t\t 2.404\n",
      "Median: \t 1\n",
      "Variance: \t 1.202\n",
      "Std Dev.: \t 1.096\n",
      "Outliers: \t [(0, 0), (1, 1636), (3, 1998), (4, 784), (5, 410)]\n"
     ]
    }
   ],
   "source": [
    "# Biased Distribution\n",
    "children_biased_hist.print_stats()"
   ]
  }
 ],
 "metadata": {
  "kernelspec": {
   "display_name": "Python 3",
   "language": "python",
   "name": "python3"
  },
  "language_info": {
   "codemirror_mode": {
    "name": "ipython",
    "version": 3
   },
   "file_extension": ".py",
   "mimetype": "text/x-python",
   "name": "python",
   "nbconvert_exporter": "python",
   "pygments_lexer": "ipython3",
   "version": "3.6.5"
  }
 },
 "nbformat": 4,
 "nbformat_minor": 2
}
